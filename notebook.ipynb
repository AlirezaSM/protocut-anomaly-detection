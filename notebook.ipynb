{
  "cells": [
    {
      "cell_type": "code",
      "execution_count": null,
      "metadata": {
        "colab": {
          "base_uri": "https://localhost:8080/"
        },
        "id": "1DrG3T7zpuyE",
        "outputId": "e1c45521-b835-480c-d603-78d2de009e2c"
      },
      "outputs": [
        {
          "name": "stdout",
          "output_type": "stream",
          "text": [
            "fatal: destination path 'ProtoVAE' already exists and is not an empty directory.\n"
          ]
        }
      ],
      "source": [
        "!git clone https://github.com/SrishtiGautam/ProtoVAE.git"
      ]
    },
    {
      "cell_type": "code",
      "execution_count": null,
      "metadata": {
        "colab": {
          "base_uri": "https://localhost:8080/"
        },
        "id": "y45XiNuaqSug",
        "outputId": "9149ff10-984e-4485-bbb5-3baadade4ea5"
      },
      "outputs": [
        {
          "name": "stdout",
          "output_type": "stream",
          "text": [
            "/content/ProtoVAE\n"
          ]
        }
      ],
      "source": [
        "%cd ProtoVAE"
      ]
    },
    {
      "cell_type": "code",
      "execution_count": null,
      "metadata": {
        "colab": {
          "background_save": true,
          "base_uri": "https://localhost:8080/"
        },
        "id": "A8V-BHnxqnps",
        "outputId": "29ff5551-80b2-48ad-b1e9-b7e226dad410"
      },
      "outputs": [
        {
          "name": "stdout",
          "output_type": "stream",
          "text": [
            "/usr/local/lib/python3.10/dist-packages/torch/utils/data/dataloader.py:560: UserWarning: This DataLoader will create 4 worker processes in total. Our suggested max number of worker in current system is 2, which is smaller than what this DataLoader is going to create. Please be aware that excessive worker creation might get DataLoader running slow or even freeze, lower the worker number to avoid potential slowness/freeze if necessary.\n",
            "  warnings.warn(_create_warning_msg(\n",
            "data :  EMNIST\n",
            "training set size: 60000\n",
            "test set size: 10000\n",
            "start training\n",
            "epoch: \t0\n",
            "\ttrain\n",
            "\ttime: \t17.22884964942932\n",
            "\tcross ent: \t2.208096111252872\n",
            "\trecons: \t0.1906367743224986\n",
            "\tKL: \t0.34463425066425346\n",
            "\taccu: \t\t57.96666666666667%\n",
            "\torth: \t\t0.4769262671470642\n",
            "\ttest\n",
            "\ttime: \t1.690906047821045\n",
            "\tcross ent: \t2.0598594599132296\n",
            "\trecons: \t0.09993473893102212\n",
            "\tKL: \t0.2003422007907795\n",
            "\taccu: \t\t93.14%\n",
            "\torth: \t\t2.8262288570404053\n",
            "epoch: \t1\n",
            "\ttrain\n",
            "\ttime: \t14.925045013427734\n",
            "\tcross ent: \t1.49800471697789\n",
            "\trecons: \t0.15274666548410712\n",
            "\tKL: \t0.1288344475474439\n",
            "\taccu: \t\t94.745%\n",
            "\torth: \t\t0.19802817702293396\n",
            "\ttest\n",
            "\ttime: \t1.9873566627502441\n",
            "\tcross ent: \t0.968502527550806\n",
            "\trecons: \t0.165708509615705\n",
            "\tKL: \t0.07752569783714754\n",
            "\taccu: \t\t95.03%\n",
            "\torth: \t\t1.1733558177947998\n",
            "epoch: \t2\n",
            "\ttrain\n",
            "\ttime: \t15.440319776535034\n",
            "\tcross ent: \t0.6168956853814725\n",
            "\trecons: \t0.14907542979920596\n",
            "\tKL: \t0.0514312849671983\n",
            "\taccu: \t\t95.78333333333333%\n",
            "\torth: \t\t0.0762912705540657\n",
            "\ttest\n",
            "\ttime: \t1.759467601776123\n",
            "\tcross ent: \t0.3947850411074071\n",
            "\trecons: \t0.14205816039178945\n",
            "\tKL: \t0.03415411128367804\n",
            "\taccu: \t\t96.78999999999999%\n",
            "\torth: \t\t0.4519496560096741\n",
            "epoch: \t3\n",
            "\ttrain\n",
            "\ttime: \t14.991534233093262\n",
            "\tcross ent: \t0.2738283064319635\n",
            "\trecons: \t0.13053994657579007\n",
            "\tKL: \t0.025333242617976436\n",
            "\taccu: \t\t97.52666666666666%\n",
            "\torth: \t\t0.025891629979014397\n",
            "\ttest\n",
            "\ttime: \t1.7755928039550781\n",
            "\tcross ent: \t0.17847128613274307\n",
            "\trecons: \t0.12086746464424496\n",
            "\tKL: \t0.017882898591364486\n",
            "\taccu: \t\t98.31%\n",
            "\torth: \t\t0.1533256322145462\n",
            "epoch: \t4\n",
            "\ttrain\n",
            "\ttime: \t14.952748537063599\n",
            "\tcross ent: \t0.13449593978141672\n",
            "\trecons: \t0.11300387822869998\n",
            "\tKL: \t0.013697148262977854\n",
            "\taccu: \t\t98.45%\n",
            "\torth: \t\t0.006789333652704954\n",
            "\ttest\n",
            "\ttime: \t1.9886159896850586\n",
            "\tcross ent: \t0.09836633169811361\n",
            "\trecons: \t0.10764029886149153\n",
            "\tKL: \t0.010020919922220557\n",
            "\taccu: \t\t98.9%\n",
            "\torth: \t\t0.04017692059278488\n",
            "epoch: \t5\n",
            "\ttrain\n",
            "\ttime: \t15.72318959236145\n",
            "\tcross ent: \t0.08474404871988017\n",
            "\trecons: \t0.1003223390721563\n",
            "\tKL: \t0.00873773729603396\n",
            "\taccu: \t\t98.855%\n",
            "\torth: \t\t0.0023205415345728397\n",
            "\ttest\n",
            "\ttime: \t1.775836706161499\n",
            "\tcross ent: \t0.07703732202843397\n",
            "\trecons: \t0.09735337673108789\n",
            "\tKL: \t0.007899728479877681\n",
            "\taccu: \t\t99.11%\n",
            "\torth: \t\t0.013766159303486347\n",
            "epoch: \t6\n",
            "\ttrain\n",
            "\ttime: \t15.094582557678223\n",
            "\tcross ent: \t0.06733480131805641\n",
            "\trecons: \t0.09299872720292382\n",
            "\tKL: \t0.007542958429484352\n",
            "\taccu: \t\t99.095%\n",
            "\torth: \t\t0.0021348181180655956\n",
            "\ttest\n",
            "\ttime: \t1.6869235038757324\n",
            "\tcross ent: \t0.06327282630284375\n",
            "\trecons: \t0.08938366278440138\n",
            "\tKL: \t0.0075969627315673645\n",
            "\taccu: \t\t99.19%\n",
            "\torth: \t\t0.012673664838075638\n",
            "epoch: \t7\n",
            "\ttrain\n",
            "\ttime: \t14.900270700454712\n",
            "\tcross ent: \t0.05784234975867752\n",
            "\trecons: \t0.0886140296231709\n",
            "\tKL: \t0.0073533238434016325\n",
            "\taccu: \t\t99.24166666666666%\n",
            "\torth: \t\t0.0021322560496628284\n",
            "\ttest\n",
            "\ttime: \t2.535249948501587\n",
            "\tcross ent: \t0.062329556233002036\n",
            "\trecons: \t0.0909201156678079\n",
            "\tKL: \t0.008147553776544107\n",
            "\taccu: \t\t99.16%\n",
            "\torth: \t\t0.012658578343689442\n",
            "epoch: \t8\n",
            "\ttrain\n",
            "\ttime: \t15.020057201385498\n",
            "\tcross ent: \t0.048586470209983496\n",
            "\trecons: \t0.08521862958730665\n",
            "\tKL: \t0.007055583696907708\n",
            "\taccu: \t\t99.38166666666667%\n",
            "\torth: \t\t0.002132201101630926\n",
            "\ttest\n",
            "\ttime: \t1.6775329113006592\n",
            "\tcross ent: \t0.05719650418591933\n",
            "\trecons: \t0.0999953210165229\n",
            "\tKL: \t0.007854814859272181\n",
            "\taccu: \t\t99.19%\n",
            "\torth: \t\t0.0126582570374012\n",
            "epoch: \t9\n",
            "\ttrain\n",
            "\ttime: \t14.910040140151978\n",
            "\tcross ent: \t0.041428116707206725\n",
            "\trecons: \t0.08243361431589005\n",
            "\tKL: \t0.0068574258660488545\n",
            "\taccu: \t\t99.47333333333333%\n",
            "\torth: \t\t0.0021322062239050865\n",
            "\ttest\n",
            "\ttime: \t1.8798537254333496\n",
            "\tcross ent: \t0.05021298404111044\n",
            "\trecons: \t0.08789152784060829\n",
            "\tKL: \t0.007709477350257243\n",
            "\taccu: \t\t99.28%\n",
            "\torth: \t\t0.012658286839723587\n",
            "saving..\n",
            "\tabove 0.00%\n",
            "./saved_models/EMNIST/9____0.9928.pth\n",
            "Figure(640x480)\n",
            "Prototypes stored in:  ./saved_models/EMNIST/prototypes/\n"
          ]
        }
      ],
      "source": [
        "!python main.py -data=EMNIST -mode=train  -expl=True"
      ]
    },
    {
      "cell_type": "code",
      "execution_count": null,
      "metadata": {
        "id": "fGJzT_nSfNM1"
      },
      "outputs": [],
      "source": []
    },
    {
      "cell_type": "code",
      "execution_count": null,
      "metadata": {
        "colab": {
          "base_uri": "https://localhost:8080/"
        },
        "id": "36usUJkqsPcw",
        "outputId": "212177ab-55c6-4a78-bee6-4e6c3d14d78c"
      },
      "outputs": [
        {
          "name": "stdout",
          "output_type": "stream",
          "text": [
            "/usr/local/lib/python3.10/dist-packages/torch/utils/data/dataloader.py:560: UserWarning: This DataLoader will create 4 worker processes in total. Our suggested max number of worker in current system is 2, which is smaller than what this DataLoader is going to create. Please be aware that excessive worker creation might get DataLoader running slow or even freeze, lower the worker number to avoid potential slowness/freeze if necessary.\n",
            "  warnings.warn(_create_warning_msg(\n",
            "data :  EMNIST\n",
            "training set size: 60000\n",
            "test set size: 10000\n",
            "Traceback (most recent call last):\n",
            "  File \"/content/ProtoVAE/main.py\", line 174, in <module>\n",
            "    protovae = model.ProtoVAE().to(device)\n",
            "  File \"/usr/local/lib/python3.10/dist-packages/torch/nn/modules/module.py\", line 1145, in to\n",
            "    return self._apply(convert)\n",
            "  File \"/usr/local/lib/python3.10/dist-packages/torch/nn/modules/module.py\", line 797, in _apply\n",
            "    module._apply(fn)\n",
            "  File \"/usr/local/lib/python3.10/dist-packages/torch/nn/modules/module.py\", line 820, in _apply\n",
            "    param_applied = fn(param)\n",
            "  File \"/usr/local/lib/python3.10/dist-packages/torch/nn/modules/module.py\", line 1143, in convert\n",
            "    return t.to(device, dtype if t.is_floating_point() or t.is_complex() else None, non_blocking)\n",
            "KeyboardInterrupt\n",
            "^C\n"
          ]
        }
      ],
      "source": [
        "!python main.py -data=EMNIST -mode=test -model_file=saved_models/EMNIST/model.pth -expl=True"
      ]
    },
    {
      "cell_type": "code",
      "execution_count": null,
      "metadata": {
        "id": "nyvHetRc4lch"
      },
      "outputs": [],
      "source": []
    }
  ],
  "metadata": {
    "accelerator": "GPU",
    "colab": {
      "provenance": []
    },
    "kernelspec": {
      "display_name": "Python 3",
      "name": "python3"
    },
    "language_info": {
      "name": "python"
    }
  },
  "nbformat": 4,
  "nbformat_minor": 0
}